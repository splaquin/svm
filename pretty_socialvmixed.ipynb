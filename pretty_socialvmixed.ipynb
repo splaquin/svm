{
 "cells": [
  {
   "cell_type": "code",
   "execution_count": 1,
   "metadata": {},
   "outputs": [
    {
     "data": {
      "application/vnd.jupyter.widget-view+json": {
       "model_id": "ae24ac834e8e4e328d04e9a4bba8ac75",
       "version_major": 2,
       "version_minor": 0
      },
      "text/plain": [
       "interactive(children=(FloatSlider(value=1104.0, description='Market Rent ($)', layout=Layout(width='450px'), m…"
      ]
     },
     "metadata": {},
     "output_type": "display_data"
    },
    {
     "data": {
      "application/vnd.plotly.v1+json": {
       "config": {
        "plotlyServerURL": "https://plot.ly"
       },
       "data": [
        {
         "line": {
          "color": "royalblue",
          "width": 4
         },
         "mode": "lines",
         "name": "Pure Social Housing",
         "type": "scatter",
         "x": [
          1,
          2,
          3,
          4,
          5,
          6,
          7,
          8,
          9,
          10,
          11,
          12,
          13,
          14,
          15,
          16,
          17,
          18,
          19,
          20,
          21,
          22,
          23,
          24,
          25,
          26,
          27,
          28,
          29,
          30,
          31,
          32,
          33,
          34,
          35,
          36,
          37,
          38,
          39,
          40,
          41,
          42,
          43,
          44,
          45,
          46,
          47,
          48,
          49,
          50,
          51,
          52,
          53,
          54,
          55,
          56,
          57,
          58,
          59,
          60,
          61,
          62,
          63,
          64,
          65,
          66,
          67,
          68,
          69,
          70,
          71,
          72,
          73,
          74,
          75,
          76,
          77,
          78,
          79,
          80,
          81,
          82,
          83,
          84,
          85,
          86,
          87,
          88,
          89,
          90,
          91,
          92,
          93,
          94,
          95,
          96,
          97,
          98,
          99,
          100
         ],
         "y": [
          14783124.510000002,
          15226926.010200001,
          15679603.540404001,
          16141334.621212082,
          16612300.323636323,
          17092685.34010905,
          17582678.05691123,
          18082470.628049456,
          18592259.050610445,
          19112243.241622653,
          19642627.116455104,
          20183618.668784205,
          20735430.05215989,
          21298277.663203087,
          21872382.226467147,
          22457968.88099649,
          23055267.268616423,
          23664511.62398875,
          24285940.866468526,
          24919798.693797898,
          25566333.677673854,
          26225799.36122733,
          26898454.358451877,
          27584562.455620915,
          28284392.714733332,
          28998219.579028,
          29726322.98060856,
          30468988.45022073,
          31226507.229225144,
          31999176.38380965,
          32787298.92148584,
          33591183.90991556,
          34411146.59811387,
          35247508.54007615,
          36100597.72087768,
          36970748.68529523,
          37858302.66900114,
          38763607.732381165,
          39687018.89702879,
          40628898.28496937,
          41589615.260668755,
          42569546.57588213,
          43569076.51739977,
          44588597.05774777,
          45628508.00890272,
          46689217.17908078,
          47771140.53266239,
          48874702.35331564,
          50000335.41038195,
          51148481.12858959,
          52319589.76116139,
          53514120.56638461,
          54732541.98771231,
          55975331.83746655,
          57242977.484215885,
          58535976.04390021,
          59854834.574778214,
          61200070.27627378,
          62572210.69179925,
          63971793.915635236,
          65399368.80394794,
          66855495.1900269,
          68340744.10382745,
          69855697.995904,
          71400950.96582209,
          72977108.99513853,
          74584790.1850413,
          76224624.99874212,
          77897256.50871696,
          79603340.6488913,
          81343546.47186913,
          83118556.41130652,
          84929066.54953265,
          86775786.8905233,
          88659441.63833377,
          90580769.48110044,
          92540523.88072245,
          94539473.3683369,
          96578401.84570365,
          98658108.89261772,
          100779410.08047007,
          102943137.29207948,
          105150139.04792106,
          107401280.83887948,
          109697445.46565707,
          112039533.38497022,
          114428463.06266962,
          116865171.33392301,
          119350613.77060147,
          121885765.0560135,
          124471619.36713377,
          127109190.76447645,
          129799513.58976598,
          132543642.8715613,
          135342654.73899254,
          138197646.84377238,
          141109738.79064783,
          144080072.57646078,
          147109813.03799,
          150200148.3087498
         ]
        },
        {
         "line": {
          "color": "firebrick",
          "dash": "dash",
          "width": 4
         },
         "mode": "lines",
         "name": "Mixed Market Housing",
         "type": "scatter",
         "x": [
          1,
          2,
          3,
          4,
          5,
          6,
          7,
          8,
          9,
          10,
          11,
          12,
          13,
          14,
          15,
          16,
          17,
          18,
          19,
          20,
          21,
          22,
          23,
          24,
          25,
          26,
          27,
          28,
          29,
          30,
          31,
          32,
          33,
          34,
          35,
          36,
          37,
          38,
          39,
          40,
          41,
          42,
          43,
          44,
          45,
          46,
          47,
          48,
          49,
          50,
          51,
          52,
          53,
          54,
          55,
          56,
          57,
          58,
          59,
          60,
          61,
          62,
          63,
          64,
          65,
          66,
          67,
          68,
          69,
          70,
          71,
          72,
          73,
          74,
          75,
          76,
          77,
          78,
          79,
          80,
          81,
          82,
          83,
          84,
          85,
          86,
          87,
          88,
          89,
          90,
          91,
          92,
          93,
          94,
          95,
          96,
          97,
          98,
          99,
          100
         ],
         "y": [
          57116508.480000004,
          56835405.1296,
          56548679.71219201,
          56256219.78643584,
          55957910.66216456,
          55653635.35540785,
          55343274.54251601,
          55026706.51336633,
          54703807.12363365,
          54374449.74610633,
          54038505.221028455,
          53695841.805449024,
          53346325.121558,
          52989818.10398916,
          52626180.94606894,
          52255271.04499032,
          51876942.94589013,
          51491048.28480793,
          51097435.73050409,
          50695950.92511417,
          50286436.423616454,
          49868731.63208878,
          49442672.744730555,
          49008092.67962517,
          48564821.01321767,
          48112683.913482025,
          47651504.07175167,
          47181100.6331867,
          46701289.12585043,
          46211881.38836744,
          45712685.49613479,
          45203505.686057486,
          44684142.27977864,
          44154391.60537421,
          43614045.91748169,
          43062893.315831326,
          42500717.662147954,
          41927298.49539091,
          41342410.945298724,
          40745825.6442047,
          40137308.63708879,
          39516621.289830565,
          38883520.195627175,
          38237757.079539716,
          37579078.70113051,
          36907226.75515312,
          36221937.770256184,
          35522943.00566131,
          34809968.34577453,
          34082734.19269002,
          33340955.35654382,
          32584340.9436747,
          31812594.24254819,
          31025412.607399154,
          30222487.339547135,
          29403503.566338077,
          28568140.117664836,
          27716069.400018133,
          26846957.268018495,
          25960462.893378865,
          25056238.63124644,
          24133929.88387137,
          23193174.961548798,
          22233604.940779775,
          21254843.51959537,
          20256506.86998728,
          19238203.487387024,
          18199534.03713476,
          17140091.197877456,
          16059459.501835005,
          14957215.171871707,
          13832925.955309141,
          12686150.954415323,
          11516440.453503627,
          10323335.742573703,
          9106368.937425174,
          7865062.796173675,
          6598930.532097148,
          5307475.62273909,
          3990191.61519387,
          2646561.9274977446,
          1276059.6460476965,
          -121852.68103135191,
          -1547723.2546519805,
          -3002111.2397450227,
          -4485586.984539926,
          -5998732.244230725,
          -7542140.409115342,
          -9116416.737297652,
          -10722178.592043605,
          -12360055.683884477,
          -14030690.317562172,
          -15734737.643913414,
          -17472865.916791685,
          -19245756.75512752,
          -21054105.410230074,
          -22898621.03843468,
          -24780026.979203373,
          -26699061.038787443,
          -28656475.7795632
         ]
        },
        {
         "line": {
          "color": "green",
          "dash": "dot",
          "width": 2
         },
         "mode": "lines",
         "name": "Initial Mixed Market Build Cost",
         "type": "scatter",
         "x": [
          1,
          2,
          3,
          4,
          5,
          6,
          7,
          8,
          9,
          10,
          11,
          12,
          13,
          14,
          15,
          16,
          17,
          18,
          19,
          20,
          21,
          22,
          23,
          24,
          25,
          26,
          27,
          28,
          29,
          30,
          31,
          32,
          33,
          34,
          35,
          36,
          37,
          38,
          39,
          40,
          41,
          42,
          43,
          44,
          45,
          46,
          47,
          48,
          49,
          50,
          51,
          52,
          53,
          54,
          55,
          56,
          57,
          58,
          59,
          60,
          61,
          62,
          63,
          64,
          65,
          66,
          67,
          68,
          69,
          70,
          71,
          72,
          73,
          74,
          75,
          76,
          77,
          78,
          79,
          80,
          81,
          82,
          83,
          84,
          85,
          86,
          87,
          88,
          89,
          90,
          91,
          92,
          93,
          94,
          95,
          96,
          97,
          98,
          99,
          100
         ],
         "y": [
          57392100.00000001,
          57392100.00000001,
          57392100.00000001,
          57392100.00000001,
          57392100.00000001,
          57392100.00000001,
          57392100.00000001,
          57392100.00000001,
          57392100.00000001,
          57392100.00000001,
          57392100.00000001,
          57392100.00000001,
          57392100.00000001,
          57392100.00000001,
          57392100.00000001,
          57392100.00000001,
          57392100.00000001,
          57392100.00000001,
          57392100.00000001,
          57392100.00000001,
          57392100.00000001,
          57392100.00000001,
          57392100.00000001,
          57392100.00000001,
          57392100.00000001,
          57392100.00000001,
          57392100.00000001,
          57392100.00000001,
          57392100.00000001,
          57392100.00000001,
          57392100.00000001,
          57392100.00000001,
          57392100.00000001,
          57392100.00000001,
          57392100.00000001,
          57392100.00000001,
          57392100.00000001,
          57392100.00000001,
          57392100.00000001,
          57392100.00000001,
          57392100.00000001,
          57392100.00000001,
          57392100.00000001,
          57392100.00000001,
          57392100.00000001,
          57392100.00000001,
          57392100.00000001,
          57392100.00000001,
          57392100.00000001,
          57392100.00000001,
          57392100.00000001,
          57392100.00000001,
          57392100.00000001,
          57392100.00000001,
          57392100.00000001,
          57392100.00000001,
          57392100.00000001,
          57392100.00000001,
          57392100.00000001,
          57392100.00000001,
          57392100.00000001,
          57392100.00000001,
          57392100.00000001,
          57392100.00000001,
          57392100.00000001,
          57392100.00000001,
          57392100.00000001,
          57392100.00000001,
          57392100.00000001,
          57392100.00000001,
          57392100.00000001,
          57392100.00000001,
          57392100.00000001,
          57392100.00000001,
          57392100.00000001,
          57392100.00000001,
          57392100.00000001,
          57392100.00000001,
          57392100.00000001,
          57392100.00000001,
          57392100.00000001,
          57392100.00000001,
          57392100.00000001,
          57392100.00000001,
          57392100.00000001,
          57392100.00000001,
          57392100.00000001,
          57392100.00000001,
          57392100.00000001,
          57392100.00000001,
          57392100.00000001,
          57392100.00000001,
          57392100.00000001,
          57392100.00000001,
          57392100.00000001,
          57392100.00000001,
          57392100.00000001,
          57392100.00000001,
          57392100.00000001,
          57392100.00000001
         ]
        },
        {
         "marker": {
          "color": "green",
          "size": 10,
          "symbol": "x"
         },
         "mode": "markers+text",
         "name": "Breakeven Point",
         "text": [
          "Year 40"
         ],
         "textposition": "top center",
         "type": "scatter",
         "x": [
          40
         ],
         "y": [
          41589615.260668755
         ]
        },
        {
         "marker": {
          "color": "purple",
          "size": 10,
          "symbol": "circle"
         },
         "mode": "markers+text",
         "name": "Mixed Market Build-Equivalent Point",
         "text": [
          "Year 55"
         ],
         "textposition": "top center",
         "type": "scatter",
         "x": [
          55
         ],
         "y": [
          57392100.00000001
         ]
        }
       ],
       "layout": {
        "font": {
         "color": "black",
         "family": "Arial, sans-serif",
         "size": 14
        },
        "legend": {
         "title": {
          "text": "Housing Type"
         }
        },
        "margin": {
         "b": 40,
         "l": 40,
         "r": 40,
         "t": 80
        },
        "template": {
         "data": {
          "bar": [
           {
            "error_x": {
             "color": "#2a3f5f"
            },
            "error_y": {
             "color": "#2a3f5f"
            },
            "marker": {
             "line": {
              "color": "white",
              "width": 0.5
             },
             "pattern": {
              "fillmode": "overlay",
              "size": 10,
              "solidity": 0.2
             }
            },
            "type": "bar"
           }
          ],
          "barpolar": [
           {
            "marker": {
             "line": {
              "color": "white",
              "width": 0.5
             },
             "pattern": {
              "fillmode": "overlay",
              "size": 10,
              "solidity": 0.2
             }
            },
            "type": "barpolar"
           }
          ],
          "carpet": [
           {
            "aaxis": {
             "endlinecolor": "#2a3f5f",
             "gridcolor": "#C8D4E3",
             "linecolor": "#C8D4E3",
             "minorgridcolor": "#C8D4E3",
             "startlinecolor": "#2a3f5f"
            },
            "baxis": {
             "endlinecolor": "#2a3f5f",
             "gridcolor": "#C8D4E3",
             "linecolor": "#C8D4E3",
             "minorgridcolor": "#C8D4E3",
             "startlinecolor": "#2a3f5f"
            },
            "type": "carpet"
           }
          ],
          "choropleth": [
           {
            "colorbar": {
             "outlinewidth": 0,
             "ticks": ""
            },
            "type": "choropleth"
           }
          ],
          "contour": [
           {
            "colorbar": {
             "outlinewidth": 0,
             "ticks": ""
            },
            "colorscale": [
             [
              0,
              "#0d0887"
             ],
             [
              0.1111111111111111,
              "#46039f"
             ],
             [
              0.2222222222222222,
              "#7201a8"
             ],
             [
              0.3333333333333333,
              "#9c179e"
             ],
             [
              0.4444444444444444,
              "#bd3786"
             ],
             [
              0.5555555555555556,
              "#d8576b"
             ],
             [
              0.6666666666666666,
              "#ed7953"
             ],
             [
              0.7777777777777778,
              "#fb9f3a"
             ],
             [
              0.8888888888888888,
              "#fdca26"
             ],
             [
              1,
              "#f0f921"
             ]
            ],
            "type": "contour"
           }
          ],
          "contourcarpet": [
           {
            "colorbar": {
             "outlinewidth": 0,
             "ticks": ""
            },
            "type": "contourcarpet"
           }
          ],
          "heatmap": [
           {
            "colorbar": {
             "outlinewidth": 0,
             "ticks": ""
            },
            "colorscale": [
             [
              0,
              "#0d0887"
             ],
             [
              0.1111111111111111,
              "#46039f"
             ],
             [
              0.2222222222222222,
              "#7201a8"
             ],
             [
              0.3333333333333333,
              "#9c179e"
             ],
             [
              0.4444444444444444,
              "#bd3786"
             ],
             [
              0.5555555555555556,
              "#d8576b"
             ],
             [
              0.6666666666666666,
              "#ed7953"
             ],
             [
              0.7777777777777778,
              "#fb9f3a"
             ],
             [
              0.8888888888888888,
              "#fdca26"
             ],
             [
              1,
              "#f0f921"
             ]
            ],
            "type": "heatmap"
           }
          ],
          "heatmapgl": [
           {
            "colorbar": {
             "outlinewidth": 0,
             "ticks": ""
            },
            "colorscale": [
             [
              0,
              "#0d0887"
             ],
             [
              0.1111111111111111,
              "#46039f"
             ],
             [
              0.2222222222222222,
              "#7201a8"
             ],
             [
              0.3333333333333333,
              "#9c179e"
             ],
             [
              0.4444444444444444,
              "#bd3786"
             ],
             [
              0.5555555555555556,
              "#d8576b"
             ],
             [
              0.6666666666666666,
              "#ed7953"
             ],
             [
              0.7777777777777778,
              "#fb9f3a"
             ],
             [
              0.8888888888888888,
              "#fdca26"
             ],
             [
              1,
              "#f0f921"
             ]
            ],
            "type": "heatmapgl"
           }
          ],
          "histogram": [
           {
            "marker": {
             "pattern": {
              "fillmode": "overlay",
              "size": 10,
              "solidity": 0.2
             }
            },
            "type": "histogram"
           }
          ],
          "histogram2d": [
           {
            "colorbar": {
             "outlinewidth": 0,
             "ticks": ""
            },
            "colorscale": [
             [
              0,
              "#0d0887"
             ],
             [
              0.1111111111111111,
              "#46039f"
             ],
             [
              0.2222222222222222,
              "#7201a8"
             ],
             [
              0.3333333333333333,
              "#9c179e"
             ],
             [
              0.4444444444444444,
              "#bd3786"
             ],
             [
              0.5555555555555556,
              "#d8576b"
             ],
             [
              0.6666666666666666,
              "#ed7953"
             ],
             [
              0.7777777777777778,
              "#fb9f3a"
             ],
             [
              0.8888888888888888,
              "#fdca26"
             ],
             [
              1,
              "#f0f921"
             ]
            ],
            "type": "histogram2d"
           }
          ],
          "histogram2dcontour": [
           {
            "colorbar": {
             "outlinewidth": 0,
             "ticks": ""
            },
            "colorscale": [
             [
              0,
              "#0d0887"
             ],
             [
              0.1111111111111111,
              "#46039f"
             ],
             [
              0.2222222222222222,
              "#7201a8"
             ],
             [
              0.3333333333333333,
              "#9c179e"
             ],
             [
              0.4444444444444444,
              "#bd3786"
             ],
             [
              0.5555555555555556,
              "#d8576b"
             ],
             [
              0.6666666666666666,
              "#ed7953"
             ],
             [
              0.7777777777777778,
              "#fb9f3a"
             ],
             [
              0.8888888888888888,
              "#fdca26"
             ],
             [
              1,
              "#f0f921"
             ]
            ],
            "type": "histogram2dcontour"
           }
          ],
          "mesh3d": [
           {
            "colorbar": {
             "outlinewidth": 0,
             "ticks": ""
            },
            "type": "mesh3d"
           }
          ],
          "parcoords": [
           {
            "line": {
             "colorbar": {
              "outlinewidth": 0,
              "ticks": ""
             }
            },
            "type": "parcoords"
           }
          ],
          "pie": [
           {
            "automargin": true,
            "type": "pie"
           }
          ],
          "scatter": [
           {
            "fillpattern": {
             "fillmode": "overlay",
             "size": 10,
             "solidity": 0.2
            },
            "type": "scatter"
           }
          ],
          "scatter3d": [
           {
            "line": {
             "colorbar": {
              "outlinewidth": 0,
              "ticks": ""
             }
            },
            "marker": {
             "colorbar": {
              "outlinewidth": 0,
              "ticks": ""
             }
            },
            "type": "scatter3d"
           }
          ],
          "scattercarpet": [
           {
            "marker": {
             "colorbar": {
              "outlinewidth": 0,
              "ticks": ""
             }
            },
            "type": "scattercarpet"
           }
          ],
          "scattergeo": [
           {
            "marker": {
             "colorbar": {
              "outlinewidth": 0,
              "ticks": ""
             }
            },
            "type": "scattergeo"
           }
          ],
          "scattergl": [
           {
            "marker": {
             "colorbar": {
              "outlinewidth": 0,
              "ticks": ""
             }
            },
            "type": "scattergl"
           }
          ],
          "scattermapbox": [
           {
            "marker": {
             "colorbar": {
              "outlinewidth": 0,
              "ticks": ""
             }
            },
            "type": "scattermapbox"
           }
          ],
          "scatterpolar": [
           {
            "marker": {
             "colorbar": {
              "outlinewidth": 0,
              "ticks": ""
             }
            },
            "type": "scatterpolar"
           }
          ],
          "scatterpolargl": [
           {
            "marker": {
             "colorbar": {
              "outlinewidth": 0,
              "ticks": ""
             }
            },
            "type": "scatterpolargl"
           }
          ],
          "scatterternary": [
           {
            "marker": {
             "colorbar": {
              "outlinewidth": 0,
              "ticks": ""
             }
            },
            "type": "scatterternary"
           }
          ],
          "surface": [
           {
            "colorbar": {
             "outlinewidth": 0,
             "ticks": ""
            },
            "colorscale": [
             [
              0,
              "#0d0887"
             ],
             [
              0.1111111111111111,
              "#46039f"
             ],
             [
              0.2222222222222222,
              "#7201a8"
             ],
             [
              0.3333333333333333,
              "#9c179e"
             ],
             [
              0.4444444444444444,
              "#bd3786"
             ],
             [
              0.5555555555555556,
              "#d8576b"
             ],
             [
              0.6666666666666666,
              "#ed7953"
             ],
             [
              0.7777777777777778,
              "#fb9f3a"
             ],
             [
              0.8888888888888888,
              "#fdca26"
             ],
             [
              1,
              "#f0f921"
             ]
            ],
            "type": "surface"
           }
          ],
          "table": [
           {
            "cells": {
             "fill": {
              "color": "#EBF0F8"
             },
             "line": {
              "color": "white"
             }
            },
            "header": {
             "fill": {
              "color": "#C8D4E3"
             },
             "line": {
              "color": "white"
             }
            },
            "type": "table"
           }
          ]
         },
         "layout": {
          "annotationdefaults": {
           "arrowcolor": "#2a3f5f",
           "arrowhead": 0,
           "arrowwidth": 1
          },
          "autotypenumbers": "strict",
          "coloraxis": {
           "colorbar": {
            "outlinewidth": 0,
            "ticks": ""
           }
          },
          "colorscale": {
           "diverging": [
            [
             0,
             "#8e0152"
            ],
            [
             0.1,
             "#c51b7d"
            ],
            [
             0.2,
             "#de77ae"
            ],
            [
             0.3,
             "#f1b6da"
            ],
            [
             0.4,
             "#fde0ef"
            ],
            [
             0.5,
             "#f7f7f7"
            ],
            [
             0.6,
             "#e6f5d0"
            ],
            [
             0.7,
             "#b8e186"
            ],
            [
             0.8,
             "#7fbc41"
            ],
            [
             0.9,
             "#4d9221"
            ],
            [
             1,
             "#276419"
            ]
           ],
           "sequential": [
            [
             0,
             "#0d0887"
            ],
            [
             0.1111111111111111,
             "#46039f"
            ],
            [
             0.2222222222222222,
             "#7201a8"
            ],
            [
             0.3333333333333333,
             "#9c179e"
            ],
            [
             0.4444444444444444,
             "#bd3786"
            ],
            [
             0.5555555555555556,
             "#d8576b"
            ],
            [
             0.6666666666666666,
             "#ed7953"
            ],
            [
             0.7777777777777778,
             "#fb9f3a"
            ],
            [
             0.8888888888888888,
             "#fdca26"
            ],
            [
             1,
             "#f0f921"
            ]
           ],
           "sequentialminus": [
            [
             0,
             "#0d0887"
            ],
            [
             0.1111111111111111,
             "#46039f"
            ],
            [
             0.2222222222222222,
             "#7201a8"
            ],
            [
             0.3333333333333333,
             "#9c179e"
            ],
            [
             0.4444444444444444,
             "#bd3786"
            ],
            [
             0.5555555555555556,
             "#d8576b"
            ],
            [
             0.6666666666666666,
             "#ed7953"
            ],
            [
             0.7777777777777778,
             "#fb9f3a"
            ],
            [
             0.8888888888888888,
             "#fdca26"
            ],
            [
             1,
             "#f0f921"
            ]
           ]
          },
          "colorway": [
           "#636efa",
           "#EF553B",
           "#00cc96",
           "#ab63fa",
           "#FFA15A",
           "#19d3f3",
           "#FF6692",
           "#B6E880",
           "#FF97FF",
           "#FECB52"
          ],
          "font": {
           "color": "#2a3f5f"
          },
          "geo": {
           "bgcolor": "white",
           "lakecolor": "white",
           "landcolor": "white",
           "showlakes": true,
           "showland": true,
           "subunitcolor": "#C8D4E3"
          },
          "hoverlabel": {
           "align": "left"
          },
          "hovermode": "closest",
          "mapbox": {
           "style": "light"
          },
          "paper_bgcolor": "white",
          "plot_bgcolor": "white",
          "polar": {
           "angularaxis": {
            "gridcolor": "#EBF0F8",
            "linecolor": "#EBF0F8",
            "ticks": ""
           },
           "bgcolor": "white",
           "radialaxis": {
            "gridcolor": "#EBF0F8",
            "linecolor": "#EBF0F8",
            "ticks": ""
           }
          },
          "scene": {
           "xaxis": {
            "backgroundcolor": "white",
            "gridcolor": "#DFE8F3",
            "gridwidth": 2,
            "linecolor": "#EBF0F8",
            "showbackground": true,
            "ticks": "",
            "zerolinecolor": "#EBF0F8"
           },
           "yaxis": {
            "backgroundcolor": "white",
            "gridcolor": "#DFE8F3",
            "gridwidth": 2,
            "linecolor": "#EBF0F8",
            "showbackground": true,
            "ticks": "",
            "zerolinecolor": "#EBF0F8"
           },
           "zaxis": {
            "backgroundcolor": "white",
            "gridcolor": "#DFE8F3",
            "gridwidth": 2,
            "linecolor": "#EBF0F8",
            "showbackground": true,
            "ticks": "",
            "zerolinecolor": "#EBF0F8"
           }
          },
          "shapedefaults": {
           "line": {
            "color": "#2a3f5f"
           }
          },
          "ternary": {
           "aaxis": {
            "gridcolor": "#DFE8F3",
            "linecolor": "#A2B1C6",
            "ticks": ""
           },
           "baxis": {
            "gridcolor": "#DFE8F3",
            "linecolor": "#A2B1C6",
            "ticks": ""
           },
           "bgcolor": "white",
           "caxis": {
            "gridcolor": "#DFE8F3",
            "linecolor": "#A2B1C6",
            "ticks": ""
           }
          },
          "title": {
           "x": 0.05
          },
          "xaxis": {
           "automargin": true,
           "gridcolor": "#EBF0F8",
           "linecolor": "#EBF0F8",
           "ticks": "",
           "title": {
            "standoff": 15
           },
           "zerolinecolor": "#EBF0F8",
           "zerolinewidth": 2
          },
          "yaxis": {
           "automargin": true,
           "gridcolor": "#EBF0F8",
           "linecolor": "#EBF0F8",
           "ticks": "",
           "title": {
            "standoff": 15
           },
           "zerolinecolor": "#EBF0F8",
           "zerolinewidth": 2
          }
         }
        },
        "title": {
         "font": {
          "size": 20
         },
         "text": "Cost Comparison of 69 Social Housing Units<br><sup>Market Units in Mixed: 207</sup>",
         "x": 0.5,
         "xanchor": "center",
         "y": 0.9,
         "yanchor": "top"
        },
        "xaxis": {
         "title": {
          "text": "Years"
         }
        },
        "yaxis": {
         "title": {
          "text": "Total Cost ($)"
         }
        }
       }
      }
     },
     "metadata": {},
     "output_type": "display_data"
    },
    {
     "data": {
      "text/plain": [
       "<function __main__.interactive_graph(market_rent, percent_social, cost_inflation_rate, rent_inflation_rate, occupancy_social, occupancy_mixed, initial_land_cost, initial_building_cost_per_unit, total_social_units, operating_cost_per_unit, social_rent)>"
      ]
     },
     "execution_count": 1,
     "metadata": {},
     "output_type": "execute_result"
    }
   ],
   "source": [
    "#%%\n",
    "import pandas as pd\n",
    "import numpy as np\n",
    "import plotly.graph_objects as go\n",
    "from ipywidgets import interact, FloatSlider, IntSlider, Layout, VBox\n",
    "\n",
    "def calculate_costs(market_rent, percent_social, cost_inflation_rate, rent_inflation_rate, occupancy_social, occupancy_mixed,\n",
    "                    initial_land_cost, initial_building_cost_per_unit, total_social_units, operating_cost_per_unit, social_rent, years=100):\n",
    "    # Calculate the total building cost based on the number of social units\n",
    "    initial_building_cost = initial_building_cost_per_unit * total_social_units\n",
    "    \n",
    "    # Recalculate the number of social units and buildings needed for mixed model\n",
    "    social_units_mixed_per_building = total_social_units * percent_social\n",
    "    buildings_needed_mixed = total_social_units / social_units_mixed_per_building\n",
    "    total_units_mixed = buildings_needed_mixed * total_social_units\n",
    "\n",
    "    # Calculate the number of market units in the mixed model\n",
    "    market_units_mixed = total_units_mixed - total_social_units\n",
    "\n",
    "    # Initial capital costs\n",
    "    initial_capital_cost_pure = initial_land_cost + initial_building_cost\n",
    "    initial_capital_cost_mixed = (initial_land_cost + initial_building_cost) * buildings_needed_mixed\n",
    "    \n",
    "    # Arrays to store costs over time\n",
    "    pure_social_costs = []\n",
    "    mixed_market_costs = []\n",
    "    \n",
    "    # Total initial costs\n",
    "    pure_social_total_cost = initial_capital_cost_pure\n",
    "    mixed_market_total_cost = initial_capital_cost_mixed\n",
    "\n",
    "    for year in range(years):\n",
    "        # Apply cost inflation to operating costs\n",
    "        inflated_operating_cost_per_unit = operating_cost_per_unit * ((1 + cost_inflation_rate) ** year)\n",
    "        # Annual operating costs\n",
    "        annual_operating_cost_pure = inflated_operating_cost_per_unit * total_social_units\n",
    "        annual_operating_cost_mixed = inflated_operating_cost_per_unit * total_units_mixed\n",
    "\n",
    "        # Apply rent inflation to rents and calculate annual rent income, considering occupancy rates\n",
    "        inflated_market_rent = market_rent * ((1 + rent_inflation_rate) ** year)\n",
    "        inflated_social_rent = social_rent * ((1 + rent_inflation_rate) ** year)\n",
    "        \n",
    "        market_rent_income = inflated_market_rent * 12 * market_units_mixed * occupancy_mixed\n",
    "        social_rent_income_pure = inflated_social_rent * 12 * total_social_units * occupancy_social\n",
    "        social_rent_income_mixed = inflated_social_rent * 12 * total_social_units * occupancy_social\n",
    "        \n",
    "        annual_rent_income_pure = social_rent_income_pure\n",
    "        annual_rent_income_mixed = market_rent_income + social_rent_income_mixed\n",
    "        \n",
    "        # Update total costs\n",
    "        pure_social_total_cost += annual_operating_cost_pure - annual_rent_income_pure\n",
    "        mixed_market_total_cost += annual_operating_cost_mixed - annual_rent_income_mixed\n",
    "\n",
    "        # Append costs to lists\n",
    "        pure_social_costs.append(pure_social_total_cost)\n",
    "        mixed_market_costs.append(mixed_market_total_cost)\n",
    "\n",
    "    return pure_social_costs, mixed_market_costs, market_units_mixed, initial_capital_cost_mixed\n",
    "\n",
    "def find_breakeven_points(pure_social_costs, mixed_market_costs):\n",
    "    # Find breakeven points where the cost lines intersect\n",
    "    breakeven_points = []\n",
    "    for year in range(1, len(pure_social_costs)):\n",
    "        if (pure_social_costs[year - 1] > mixed_market_costs[year - 1] and pure_social_costs[year] < mixed_market_costs[year]) or \\\n",
    "           (pure_social_costs[year - 1] < mixed_market_costs[year - 1] and pure_social_costs[year] > mixed_market_costs[year]):\n",
    "            breakeven_points.append(year)\n",
    "    return breakeven_points\n",
    "\n",
    "def find_construction_cost_reach_point(pure_social_costs, initial_capital_cost_mixed):\n",
    "    # Find the year when Pure Social Housing costs reach the construction costs of Mixed Market Housing\n",
    "    for year, cost in enumerate(pure_social_costs):\n",
    "        if cost >= initial_capital_cost_mixed:\n",
    "            return year\n",
    "    return None\n",
    "\n",
    "def interactive_graph(market_rent, percent_social, cost_inflation_rate, rent_inflation_rate, occupancy_social, occupancy_mixed,\n",
    "                      initial_land_cost, initial_building_cost_per_unit, total_social_units, operating_cost_per_unit, social_rent):\n",
    "    pure_social_costs, mixed_market_costs, market_units_mixed, initial_capital_cost_mixed = calculate_costs(\n",
    "        market_rent, percent_social, cost_inflation_rate, rent_inflation_rate, occupancy_social, occupancy_mixed,\n",
    "        initial_land_cost, initial_building_cost_per_unit, total_social_units, operating_cost_per_unit, social_rent, years=100\n",
    "    )\n",
    "    \n",
    "    # Find breakeven points\n",
    "    breakeven_points = find_breakeven_points(pure_social_costs, mixed_market_costs)\n",
    "    \n",
    "    # Find when Pure Social Housing costs reach the construction costs of the Mixed Market option\n",
    "    construction_cost_reach_point = find_construction_cost_reach_point(pure_social_costs, initial_capital_cost_mixed)\n",
    "    \n",
    "    # Create the figure\n",
    "    fig = go.Figure()\n",
    "\n",
    "    # Pure Social Housing Costs\n",
    "    fig.add_trace(go.Scatter(\n",
    "        x=list(range(1, 101)), y=pure_social_costs, \n",
    "        mode='lines', \n",
    "        name='Pure Social Housing',\n",
    "        line=dict(color='royalblue', width=4)\n",
    "    ))\n",
    "\n",
    "    # Mixed Market Housing Costs\n",
    "    fig.add_trace(go.Scatter(\n",
    "        x=list(range(1, 101)), y=mixed_market_costs, \n",
    "        mode='lines', \n",
    "        name='Mixed Market Housing',\n",
    "        line=dict(color='firebrick', width=4, dash='dash')\n",
    "    ))\n",
    "\n",
    "    # Add initial build price line for mixed market\n",
    "    fig.add_trace(go.Scatter(\n",
    "        x=list(range(1, 101)), \n",
    "        y=[initial_capital_cost_mixed] * 100, \n",
    "        mode='lines', \n",
    "        name='Initial Mixed Market Build Cost',\n",
    "        line=dict(color='green', width=2, dash='dot')\n",
    "    ))\n",
    "\n",
    "    # Add breakeven points\n",
    "    for point in breakeven_points:\n",
    "        fig.add_trace(go.Scatter(\n",
    "            x=[point], y=[pure_social_costs[point]],\n",
    "            mode='markers+text',\n",
    "            name='Breakeven Point',\n",
    "            text=[f'Year {point}'],\n",
    "            textposition='top center',\n",
    "            marker=dict(color='green', size=10, symbol='x')\n",
    "        ))\n",
    "\n",
    "    # Add construction cost reach point\n",
    "    if construction_cost_reach_point is not None:\n",
    "        fig.add_trace(go.Scatter(\n",
    "            x=[construction_cost_reach_point], y=[initial_capital_cost_mixed],\n",
    "            mode='markers+text',\n",
    "            name='Mixed Market Build-Equivalent Point',\n",
    "            text=[f'Year {construction_cost_reach_point}'],\n",
    "            textposition='top center',\n",
    "            marker=dict(color='purple', size=10, symbol='circle')\n",
    "        ))\n",
    "\n",
    "    # Layout for the graph\n",
    "    fig.update_layout(\n",
    "        title={\n",
    "            'text': f'Cost Comparison of 69 Social Housing Units<br><sup>Market Units in Mixed: {int(market_units_mixed)}</sup>',\n",
    "            'y':0.9,\n",
    "            'x':0.5,\n",
    "            'xanchor': 'center',\n",
    "            'yanchor': 'top'},\n",
    "        xaxis_title='Years',\n",
    "        yaxis_title='Total Cost ($)',\n",
    "        legend_title='Housing Type',\n",
    "        template='plotly_white',\n",
    "        font=dict(\n",
    "            family=\"Arial, sans-serif\",\n",
    "            size=14,\n",
    "            color=\"black\"\n",
    "        ),\n",
    "        title_font_size=20,\n",
    "        margin=dict(l=40, r=40, t=80, b=40)\n",
    "    )\n",
    "    \n",
    "    fig.show()\n",
    "\n",
    "# Adjust slider layout for a more compact and visually consistent design\n",
    "slider_layout = Layout(width='450px', description_width='150px')\n",
    "\n",
    "# Create interactive controls with appealing styles\n",
    "controls = VBox([\n",
    "    FloatSlider(value=1104.00, min=500.0, max=2000.0, step=50.0, description='Market Rent ($)', layout=slider_layout, style={'description_width': 'initial'}),\n",
    "    FloatSlider(value=0.25, min=0.1, max=0.9, step=0.05, description='Social % in Mixed', layout=slider_layout, style={'description_width': 'initial'}),\n",
    "    FloatSlider(value=0.02, min=0.00, max=0.1, step=0.005, description='Cost Inflation Rate (%)', layout=slider_layout, style={'description_width': 'initial'}),\n",
    "    FloatSlider(value=0.02, min=0.00, max=0.1, step=0.005, description='Rent Inflation Rate (%)', layout=slider_layout, style={'description_width': 'initial'}),\n",
    "    FloatSlider(value=1.0, min=0.5, max=1.0, step=0.05, description='Occupancy Rate Social (%)', layout=slider_layout, style={'description_width': 'initial'}),\n",
    "    FloatSlider(value=1.0, min=0.5, max=1.0, step=0.05, description='Occupancy Rate Market (%)', layout=slider_layout, style={'description_width': 'initial'}),\n",
    "    FloatSlider(value=3000000, min=1000000, max=10000000, step=100000, description='Initial Land Cost ($)', layout=slider_layout, style={'description_width': 'initial'}),\n",
    "    FloatSlider(value=11348025 / 69, min=50000, max=500000, step=5000, description='Building Cost per Unit ($)', layout=slider_layout, style={'description_width': 'initial'}),\n",
    "    IntSlider(value=69, min=10, max=200, step=1, description='Total Social Units', layout=slider_layout, style={'description_width': 'initial'}),\n",
    "    FloatSlider(value=9814.71, min=5000, max=20000, step=500, description='Operating Cost per Unit ($)', layout=slider_layout, style={'description_width': 'initial'}),\n",
    "    FloatSlider(value=292.41, min=100, max=1000, step=50, description='Social Rent ($)', layout=slider_layout, style={'description_width': 'initial'}),\n",
    "])\n",
    "\n",
    "# Interactive display\n",
    "interact(interactive_graph, \n",
    "         market_rent=controls.children[0],\n",
    "         percent_social=controls.children[1],\n",
    "         cost_inflation_rate=controls.children[2],\n",
    "         rent_inflation_rate=controls.children[3],\n",
    "         occupancy_social=controls.children[4],\n",
    "         occupancy_mixed=controls.children[5],\n",
    "         initial_land_cost=controls.children[6],\n",
    "         initial_building_cost_per_unit=controls.children[7],\n",
    "         total_social_units=controls.children[8],\n",
    "         operating_cost_per_unit=controls.children[9],\n",
    "         social_rent=controls.children[10])\n",
    "\n",
    "# %%\n",
    "\n"
   ]
  }
 ],
 "metadata": {
  "kernelspec": {
   "display_name": "Python 3",
   "language": "python",
   "name": "python3"
  },
  "language_info": {
   "codemirror_mode": {
    "name": "ipython",
    "version": 3
   },
   "file_extension": ".py",
   "mimetype": "text/x-python",
   "name": "python",
   "nbconvert_exporter": "python",
   "pygments_lexer": "ipython3",
   "version": "3.10.11"
  }
 },
 "nbformat": 4,
 "nbformat_minor": 2
}
